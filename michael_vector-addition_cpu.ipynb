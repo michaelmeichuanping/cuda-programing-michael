{
 "cells": [
  {
   "cell_type": "code",
   "execution_count": 1,
   "id": "2c9a6e4a-0ee8-45fb-899c-2e03c24a9c42",
   "metadata": {},
   "outputs": [],
   "source": [
    "from numba import cuda\n",
    "import numpy as np\n",
    "import math\n",
    "from time import time\n"
   ]
  },
  {
   "cell_type": "code",
   "execution_count": 2,
   "id": "41823615-cd7d-40c1-93e7-7fc12792d1c2",
   "metadata": {},
   "outputs": [
    {
     "name": "stdout",
     "output_type": "stream",
     "text": [
      "cpu vector add time 0.03395867347717285\n",
      "- cpu_result= [       0        3        6 ... 59999991 59999994 59999997]\n",
      "- cpu_result[1]= 3\n"
     ]
    }
   ],
   "source": [
    "#  create 2 x vectors in 20M-dimension. covert them into int32\n",
    "#  Pass them to the function as the parameters\n",
    "n = 20000000\n",
    "x = np.arange(n).astype(np.int32)\n",
    "y = 2 * x\n",
    "\n",
    "# 创建n维全0向量, 作为vector sum的初始值\n",
    "cpu_result = np.zeros(n)\n",
    "\n",
    "# resset timer\n",
    "start = time()\n",
    "\n",
    "# use numpy function add() to do vector sum, by CPU\n",
    "cpu_result = np.add(x, y)\n",
    "\n",
    "# print time consumed by CPU\n",
    "print(\"cpu vector add time \" + str(time() - start))\n",
    "print(\"- cpu_result=\", cpu_result)\n",
    "print(\"- cpu_result[1]=\", cpu_result[1])\n"
   ]
  },
  {
   "cell_type": "code",
   "execution_count": null,
   "id": "5a2973fe-f9c1-457e-be77-0d01c8ebd8ff",
   "metadata": {},
   "outputs": [],
   "source": []
  },
  {
   "cell_type": "code",
   "execution_count": null,
   "id": "c744e305-3532-41ba-9f24-f50e0940c255",
   "metadata": {},
   "outputs": [],
   "source": []
  }
 ],
 "metadata": {
  "kernelspec": {
   "display_name": "py-3-11_programing",
   "language": "python",
   "name": "py-3-11_programing"
  },
  "language_info": {
   "codemirror_mode": {
    "name": "ipython",
    "version": 3
   },
   "file_extension": ".py",
   "mimetype": "text/x-python",
   "name": "python",
   "nbconvert_exporter": "python",
   "pygments_lexer": "ipython3",
   "version": "3.11.8"
  }
 },
 "nbformat": 4,
 "nbformat_minor": 5
}
