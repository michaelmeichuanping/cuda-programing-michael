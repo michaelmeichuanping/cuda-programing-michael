{
 "cells": [
  {
   "cell_type": "code",
   "execution_count": null,
   "id": "f28404c3-4ca5-4427-becb-1cdbadaf3ed3",
   "metadata": {},
   "outputs": [],
   "source": [
    "import numpy as np\n",
    "import time\n",
    "from numba import jit\n"
   ]
  },
  {
   "cell_type": "code",
   "execution_count": null,
   "id": "81c5003f-21f1-446f-bfa2-417d2c42d9e0",
   "metadata": {},
   "outputs": [],
   "source": [
    "@jit(nopython=True)\n",
    "def mutiply(arr_a,arr_b):\n",
    "    res = np.zeros((arr_a.shape[0], arr_b.shape[1]))\n",
    "    for i in range(arr_a.shape[0]):\n",
    "        for j in range(arr_b.shape[1]):\n",
    "            for k in range(arr_b.shape[0]):\n",
    "                res[i,j] += arr_a[i,k] * arr_b[k,j]\n",
    "    return res\n",
    " \n"
   ]
  },
  {
   "cell_type": "code",
   "execution_count": null,
   "id": "5d5a464c-4538-49d0-bc2c-2bee0268e307",
   "metadata": {},
   "outputs": [],
   "source": [
    "M = 6000\n",
    "N = 4800\n",
    "P = 4000\n",
    "A = np.random.random((M, N)) # 随机生成的 [M x N] 矩阵\n",
    "B = np.random.random((N, P)) # 随机生成的 [N x P] 矩阵\n",
    "\n",
    "start = time.time()\n",
    "#print(\"Result:\\n\",mutiply(A,B))\n",
    "C_cpu = mutiply(A,B)\n",
    "\n",
    "print(\"CPU time required:  %s\" %(time.time() - start))\n",
    "\n",
    "# 验证正确性\n",
    "if np.allclose(C_cpu, np.dot(A, B)):\n",
    "    print(\"cpu result correct\")\n",
    "\n"
   ]
  },
  {
   "cell_type": "code",
   "execution_count": null,
   "id": "ba59da80-7f49-4352-bf73-1fdbd42240ff",
   "metadata": {},
   "outputs": [],
   "source": []
  },
  {
   "cell_type": "code",
   "execution_count": null,
   "id": "46808a18-cb2a-4776-bd2c-0b788bb4aa3a",
   "metadata": {},
   "outputs": [],
   "source": []
  }
 ],
 "metadata": {
  "kernelspec": {
   "display_name": "py-3-11_programing",
   "language": "python",
   "name": "py-3-11_programing"
  },
  "language_info": {
   "codemirror_mode": {
    "name": "ipython",
    "version": 3
   },
   "file_extension": ".py",
   "mimetype": "text/x-python",
   "name": "python",
   "nbconvert_exporter": "python",
   "pygments_lexer": "ipython3",
   "version": "3.11.8"
  }
 },
 "nbformat": 4,
 "nbformat_minor": 5
}
