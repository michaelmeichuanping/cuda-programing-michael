{
 "cells": [
  {
   "cell_type": "code",
   "execution_count": 1,
   "id": "e4a7cde1-2b7d-4c0a-8181-07e6e7c5d094",
   "metadata": {},
   "outputs": [],
   "source": [
    "import numpy as np\n",
    "import time\n",
    "from numba import jit\n"
   ]
  },
  {
   "cell_type": "code",
   "execution_count": 2,
   "id": "a2c59a62-eadb-4ec0-a790-3ae6094ed4f5",
   "metadata": {},
   "outputs": [],
   "source": [
    "def matmul_cpu(arr_a,arr_b):\n",
    "    res = np.zeros((arr_a.shape[0], arr_b.shape[1]))\n",
    "    for i in range(arr_a.shape[0]):\n",
    "        for j in range(arr_b.shape[1]):\n",
    "            for k in range(arr_b.shape[0]):\n",
    "                res[i,j] += arr_a[i,k] * arr_b[k,j]\n",
    "    return res\n",
    " \n"
   ]
  },
  {
   "cell_type": "code",
   "execution_count": 3,
   "id": "623f48f1-8f54-4cd2-a299-ac01353efe8c",
   "metadata": {},
   "outputs": [],
   "source": [
    "# arr_a = np.random.randint(1,100,10000).reshape((100,100))\n",
    "# arr_b = np.random.randint(1,100,10000).reshape((100,100))\n",
    "\n",
    "M = 60\n",
    "N = 48\n",
    "P = 40\n",
    "A = np.random.random((M, N)) # 随机生成的 [M x N] 矩阵\n",
    "B = np.random.random((N, P)) # 随机生成的 [N x P] 矩阵\n",
    "\n",
    "\n"
   ]
  },
  {
   "cell_type": "code",
   "execution_count": 4,
   "id": "04bca162-87c9-43ee-a861-429242f2ac3d",
   "metadata": {},
   "outputs": [
    {
     "name": "stdout",
     "output_type": "stream",
     "text": [
      "Result:\n",
      " [[12.21582647 11.11014184 12.30444246 ... 11.0988746  11.60471407\n",
      "  10.69598744]\n",
      " [12.88298475 10.55515775 12.24304379 ... 12.1910489  12.63938297\n",
      "  10.18357866]\n",
      " [13.67120433 13.38701492 11.95279386 ... 13.5823753  12.2926171\n",
      "  11.0006281 ]\n",
      " ...\n",
      " [12.63323444 11.57668075 11.74354079 ... 11.86544527 12.10002291\n",
      "   9.91031135]\n",
      " [13.96559464 12.25225399 13.44830307 ... 13.24458233 12.78170047\n",
      "  10.87140728]\n",
      " [16.93426488 14.24852855 15.06738722 ... 14.91369526 15.42431464\n",
      "  13.56400179]]\n",
      "time required:  0.05573916435241699\n"
     ]
    }
   ],
   "source": [
    "start = time.time()\n",
    "#print(\"Result:\\n\",mutiply(A,B))\n",
    "C_cpu = mutiply(A,B)\n",
    "\n",
    "print(\"CPU time required:  %s\" %(time.time() - start))\n",
    "\n",
    "# 验证正确性\n",
    "if np.allclose(C_cpu, np.dot(A, B)):\n",
    "    print(\"cpu result correct\")\n",
    "\n",
    "\n"
   ]
  },
  {
   "cell_type": "code",
   "execution_count": null,
   "id": "7f7480c8-75bb-4961-a6d1-758d158860c5",
   "metadata": {},
   "outputs": [],
   "source": []
  },
  {
   "cell_type": "code",
   "execution_count": null,
   "id": "e306cc49-f057-4f5c-bcf6-1fff8cfd8b08",
   "metadata": {},
   "outputs": [],
   "source": []
  }
 ],
 "metadata": {
  "kernelspec": {
   "display_name": "py-3-11_programing",
   "language": "python",
   "name": "py-3-11_programing"
  },
  "language_info": {
   "codemirror_mode": {
    "name": "ipython",
    "version": 3
   },
   "file_extension": ".py",
   "mimetype": "text/x-python",
   "name": "python",
   "nbconvert_exporter": "python",
   "pygments_lexer": "ipython3",
   "version": "3.11.8"
  }
 },
 "nbformat": 4,
 "nbformat_minor": 5
}
