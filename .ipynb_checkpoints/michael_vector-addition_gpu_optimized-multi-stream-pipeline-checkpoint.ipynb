{
 "cells": [
  {
   "cell_type": "code",
   "execution_count": 1,
   "id": "d8778d4c-0244-4457-8967-fd933974c850",
   "metadata": {},
   "outputs": [],
   "source": [
    "from numba import cuda\n",
    "import numpy as np\n",
    "import math\n",
    "from time import time\n"
   ]
  },
  {
   "cell_type": "code",
   "execution_count": 2,
   "id": "9023307b-5b7e-4976-93fc-b97225a07442",
   "metadata": {},
   "outputs": [],
   "source": [
    "# create a function for vector sum, run it over GPU\n",
    "@cuda.jit\n",
    "def gpu_add(a, b, result, n):\n",
    "    # a, b为输入向量，result为输出向量\n",
    "    # 向量维度为n\n",
    "    # 得到当前thread的编号\n",
    "    idx = cuda.threadIdx.x + cuda.blockDim.x * cuda.blockIdx.x\n",
    "    if idx < n:\n",
    "        result[idx] = a[idx] + b[idx]\n"
   ]
  },
  {
   "cell_type": "code",
   "execution_count": 3,
   "id": "3fe71bdb-664c-43f6-80cb-ccfa7df8fde5",
   "metadata": {},
   "outputs": [],
   "source": [
    "#  create 2 x vectors in 20M-dimension. covert them into int32\n",
    "#  Pass them to the function as the parameters\n",
    "n = 20000000\n",
    "x = np.arange(n).astype(np.int32)\n",
    "y = 2 * x"
   ]
  },
  {
   "cell_type": "code",
   "execution_count": 4,
   "id": "902ade94-ed10-4eaf-b2ea-73b658e62ff6",
   "metadata": {},
   "outputs": [],
   "source": [
    "# 创建n维全0向量, 作为vector sum的初始值\n",
    "# gpu_result = np.zeros(n)\n",
    "# cpu_result = np.zeros(n)\n",
    "\n",
    "# manually copy data from the main memory to the GPU memory\n",
    "x_device = cuda.to_device(x)\n",
    "y_device = cuda.to_device(y)\n",
    "\n",
    "\n",
    "\n",
    "# 在显卡设备上初始化一块GPU memory, for storing GPU计算结果, 以避免结果被回送到CPU\n",
    "gpu_result = cuda.device_array(n)\n",
    "# CPU’s calculation result will still be oin the main memory\n",
    "cpu_result = np.empty(n)\n"
   ]
  },
  {
   "cell_type": "code",
   "execution_count": 5,
   "id": "34cf7db8-a56c-488a-a5d5-6a1b7ed7b621",
   "metadata": {},
   "outputs": [],
   "source": [
    "# calculate CUDA execution configuration [gridDim, blockDim]\n",
    "threads_per_block = 1024\n",
    "blocks_per_grid = math.ceil(n / threads_per_block)"
   ]
  },
  {
   "cell_type": "code",
   "execution_count": 6,
   "id": "6f8e424e-4b7d-4753-93a0-2e802fd38bca",
   "metadata": {},
   "outputs": [
    {
     "name": "stdout",
     "output_type": "stream",
     "text": [
      "gpu vector add time 0.176041841506958\n"
     ]
    }
   ],
   "source": [
    "# get time-stamp when start\n",
    "start = time()\n",
    "\n",
    "# use GPU to do do vector sum, with execution configuration [19532, 1024]\n",
    "# gpu_add[blocks_per_grid, threads_per_block](x, y, gpu_result, n)\n",
    "# use data which has been manually copied into the GPU memory, instead of data in CPU memory\n",
    "gpu_add[blocks_per_grid, threads_per_block](x_device, y_device, gpu_result, n)\n",
    "cuda.synchronize()\n",
    "\n",
    "# print time consumed by GPU\n",
    "print(\"gpu vector add time \" + str(time() - start))"
   ]
  },
  {
   "cell_type": "code",
   "execution_count": 7,
   "id": "e83e4059-905e-4eb5-a1d7-d696d6dbca87",
   "metadata": {},
   "outputs": [
    {
     "name": "stdout",
     "output_type": "stream",
     "text": [
      "- gpu_result= <numba.cuda.cudadrv.devicearray.DeviceNDArray object at 0x7ff6c419fd90>\n",
      "- gpu_result[1]= 3.0\n"
     ]
    }
   ],
   "source": [
    "print(\"- gpu_result=\", gpu_result)\n",
    "print(\"- gpu_result[1]=\", gpu_result[1])"
   ]
  },
  {
   "cell_type": "code",
   "execution_count": null,
   "id": "ba0fbaaa-9d16-47f5-81e0-c8e2072bac30",
   "metadata": {},
   "outputs": [],
   "source": []
  },
  {
   "cell_type": "code",
   "execution_count": 8,
   "id": "e9711aeb-466e-42cd-bb5a-19415861d4e1",
   "metadata": {},
   "outputs": [
    {
     "name": "stdout",
     "output_type": "stream",
     "text": [
      "cpu vector add time 0.03424239158630371\n"
     ]
    }
   ],
   "source": [
    "# get time-stamp when start\n",
    "start = time()\n",
    "\n",
    "# use numpy function add() to do vector sum, by CPU\n",
    "cpu_result = np.add(x, y)\n",
    "\n",
    "# print time consumed by CPU\n",
    "print(\"cpu vector add time \" + str(time() - start))"
   ]
  },
  {
   "cell_type": "code",
   "execution_count": 9,
   "id": "1c03fe40-50b7-4f6a-a1ef-8c91b3bbe821",
   "metadata": {},
   "outputs": [
    {
     "name": "stdout",
     "output_type": "stream",
     "text": [
      "- cpu_result= [       0        3        6 ... 59999991 59999994 59999997]\n",
      "- cpu_result[1]= 3\n"
     ]
    }
   ],
   "source": [
    "print(\"- cpu_result=\", cpu_result)\n",
    "print(\"- cpu_result[1]=\", cpu_result[1])"
   ]
  },
  {
   "cell_type": "code",
   "execution_count": null,
   "id": "33acb63b-448f-43b9-951a-03050a7b621b",
   "metadata": {},
   "outputs": [],
   "source": []
  },
  {
   "cell_type": "code",
   "execution_count": 10,
   "id": "7e365358-820e-4843-a9eb-62a8fcf054ad",
   "metadata": {},
   "outputs": [
    {
     "name": "stdout",
     "output_type": "stream",
     "text": [
      "result correct\n"
     ]
    }
   ],
   "source": [
    "if (np.array_equal(cpu_result, gpu_result)):\n",
    "    print(\"result correct\")"
   ]
  },
  {
   "cell_type": "code",
   "execution_count": null,
   "id": "4aa1f211-b539-4dfa-a8c4-c2fe11b79df7",
   "metadata": {},
   "outputs": [],
   "source": []
  }
 ],
 "metadata": {
  "kernelspec": {
   "display_name": "py-3-11_programing",
   "language": "python",
   "name": "py-3-11_programing"
  },
  "language_info": {
   "codemirror_mode": {
    "name": "ipython",
    "version": 3
   },
   "file_extension": ".py",
   "mimetype": "text/x-python",
   "name": "python",
   "nbconvert_exporter": "python",
   "pygments_lexer": "ipython3",
   "version": "3.11.8"
  }
 },
 "nbformat": 4,
 "nbformat_minor": 5
}
