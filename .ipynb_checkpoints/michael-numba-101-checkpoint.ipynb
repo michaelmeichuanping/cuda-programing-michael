{
 "cells": [
  {
   "cell_type": "code",
   "execution_count": 1,
   "id": "8b3478ff-3703-4dfd-af1d-2f4d1a9aff1d",
   "metadata": {},
   "outputs": [],
   "source": [
    "from numba import cuda\n",
    "\n",
    "def cpu_print():\n",
    "    print(\"print by cpu.\")\n",
    "\n",
    "# define gpu function by using JIT compiler\n",
    "@cuda.jit\n",
    "def gpu_print():\n",
    "    # GPU核函数\n",
    "    print(\"print by gpu.\")\n"
   ]
  },
  {
   "cell_type": "code",
   "execution_count": null,
   "id": "99657048-6d97-45d3-a21e-05dae580c02f",
   "metadata": {},
   "outputs": [],
   "source": []
  },
  {
   "cell_type": "code",
   "execution_count": 2,
   "id": "42b0580e-1c94-494b-ad75-e0c527bfae4d",
   "metadata": {},
   "outputs": [
    {
     "name": "stderr",
     "output_type": "stream",
     "text": [
      "/home/ubuntu/miniconda3/envs/py-3-11_programing/lib/python3.11/site-packages/numba/cuda/dispatcher.py:536: NumbaPerformanceWarning: Grid size 2 will likely result in GPU under-utilization due to low occupancy.\n",
      "  warn(NumbaPerformanceWarning(msg))\n"
     ]
    },
    {
     "name": "stdout",
     "output_type": "stream",
     "text": [
      "print by cpu.print by gpu.\n",
      "print by gpu.\n",
      "print by gpu.\n",
      "print by gpu.\n",
      "\n"
     ]
    }
   ],
   "source": [
    "def main():\n",
    "    gpu_print[1, 2]()\n",
    "    cuda.synchronize()\n",
    "    cpu_print()\n",
    "\n",
    "if __name__ == \"__main__\":\n",
    "    main()\n"
   ]
  },
  {
   "cell_type": "code",
   "execution_count": null,
   "id": "8981b666-cb10-4433-875e-312b9c5f5d9d",
   "metadata": {},
   "outputs": [],
   "source": []
  },
  {
   "cell_type": "code",
   "execution_count": null,
   "id": "27e8976d-49ee-4637-a158-8209bc8089ea",
   "metadata": {},
   "outputs": [],
   "source": []
  },
  {
   "cell_type": "code",
   "execution_count": null,
   "id": "94b0d458-777e-4296-a2f3-61a02396ed11",
   "metadata": {},
   "outputs": [],
   "source": []
  },
  {
   "cell_type": "code",
   "execution_count": null,
   "id": "8a8528d9-2552-4caa-bec9-473a13fd7019",
   "metadata": {},
   "outputs": [],
   "source": []
  },
  {
   "cell_type": "code",
   "execution_count": null,
   "id": "2467d388-2022-4799-bf97-0cdba0442873",
   "metadata": {},
   "outputs": [],
   "source": []
  },
  {
   "cell_type": "code",
   "execution_count": null,
   "id": "6632d722-890d-4ed3-a4ec-62e961a8dea2",
   "metadata": {},
   "outputs": [],
   "source": [
    "\n",
    "\n",
    "\n"
   ]
  }
 ],
 "metadata": {
  "kernelspec": {
   "display_name": "py-3-11_programing",
   "language": "python",
   "name": "py-3-11_programing"
  },
  "language_info": {
   "codemirror_mode": {
    "name": "ipython",
    "version": 3
   },
   "file_extension": ".py",
   "mimetype": "text/x-python",
   "name": "python",
   "nbconvert_exporter": "python",
   "pygments_lexer": "ipython3",
   "version": "3.11.8"
  }
 },
 "nbformat": 4,
 "nbformat_minor": 5
}
